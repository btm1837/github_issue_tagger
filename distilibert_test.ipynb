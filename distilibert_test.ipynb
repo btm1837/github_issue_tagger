{
 "cells": [
  {
   "cell_type": "markdown",
   "metadata": {},
   "source": [
    "# prepare data for distilibert"
   ]
  },
  {
   "cell_type": "code",
   "execution_count": null,
   "metadata": {},
   "outputs": [],
   "source": []
  }
 ],
 "metadata": {
  "kernelspec": {
   "display_name": "Python 3.9.7 ('base')",
   "language": "python",
   "name": "python3"
  },
  "language_info": {
   "name": "python",
   "version": "3.9.7"
  },
  "orig_nbformat": 4,
  "vscode": {
   "interpreter": {
    "hash": "8ef95568004652f776bd8622263a31e0f4453e284693cb553c5f4e384f04eb19"
   }
  }
 },
 "nbformat": 4,
 "nbformat_minor": 2
}
