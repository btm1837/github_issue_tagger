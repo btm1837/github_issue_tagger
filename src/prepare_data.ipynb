{
 "cells": [
  {
   "cell_type": "markdown",
   "metadata": {},
   "source": [
    "# Download Data for baseline"
   ]
  },
  {
   "cell_type": "code",
   "execution_count": 13,
   "metadata": {},
   "outputs": [
    {
     "data": {
      "text/plain": [
       "'../dataset/dataset-labels-top3-30k-real (1).txt'"
      ]
     },
     "execution_count": 13,
     "metadata": {},
     "output_type": "execute_result"
    }
   ],
   "source": [
    "import wget\n",
    "url = r\"https://tickettagger.blob.core.windows.net/datasets/dataset-labels-top3-30k-real.txt\"\n",
    "output = r\"../dataset/dataset-labels-top3-30k-real.txt\"\n",
    "wget.download(url,output)\n",
    "\n",
    "url = r\"https://gist.githubusercontent.com/rafaelkallis/6aa281b00d73d77fc843bd34f8184854/raw/8c10ebf2fd6f937f8667c660ea33d122bac739eb/issues.txt\"\n",
    "output = r\"../dataset/dataset_balanced.txt\"\n",
    "wget.download(url,output)"
   ]
  },
  {
   "cell_type": "markdown",
   "metadata": {},
   "source": [
    "## look at pivot table of data from other repos"
   ]
  },
  {
   "cell_type": "markdown",
   "metadata": {},
   "source": []
  },
  {
   "cell_type": "code",
   "execution_count": 90,
   "metadata": {},
   "outputs": [
    {
     "data": {
      "text/html": [
       "<div>\n",
       "<style scoped>\n",
       "    .dataframe tbody tr th:only-of-type {\n",
       "        vertical-align: middle;\n",
       "    }\n",
       "\n",
       "    .dataframe tbody tr th {\n",
       "        vertical-align: top;\n",
       "    }\n",
       "\n",
       "    .dataframe thead th {\n",
       "        text-align: right;\n",
       "    }\n",
       "</style>\n",
       "<table border=\"1\" class=\"dataframe\">\n",
       "  <thead>\n",
       "    <tr style=\"text-align: right;\">\n",
       "      <th></th>\n",
       "      <th>f0_</th>\n",
       "      <th>repo_name</th>\n",
       "    </tr>\n",
       "  </thead>\n",
       "  <tbody>\n",
       "    <tr>\n",
       "      <th>0</th>\n",
       "      <td>__label__bug Single most recently added Custom...</td>\n",
       "      <td>https://api.github.com/repos/qgis/QGIS</td>\n",
       "    </tr>\n",
       "    <tr>\n",
       "      <th>1</th>\n",
       "      <td>__label__bug layer style effects not compatibl...</td>\n",
       "      <td>https://api.github.com/repos/qgis/QGIS</td>\n",
       "    </tr>\n",
       "    <tr>\n",
       "      <th>2</th>\n",
       "      <td>__label__bug QGIS 3.10.0 fails to launch on Wi...</td>\n",
       "      <td>https://api.github.com/repos/qgis/QGIS</td>\n",
       "    </tr>\n",
       "    <tr>\n",
       "      <th>3</th>\n",
       "      <td>__label__bug TIN interpolation in Model Builde...</td>\n",
       "      <td>https://api.github.com/repos/qgis/QGIS</td>\n",
       "    </tr>\n",
       "    <tr>\n",
       "      <th>4</th>\n",
       "      <td>__label__bug Map Tip Position / Follow the Hyp...</td>\n",
       "      <td>https://api.github.com/repos/qgis/QGIS</td>\n",
       "    </tr>\n",
       "  </tbody>\n",
       "</table>\n",
       "</div>"
      ],
      "text/plain": [
       "                                                 f0_  \\\n",
       "0  __label__bug Single most recently added Custom...   \n",
       "1  __label__bug layer style effects not compatibl...   \n",
       "2  __label__bug QGIS 3.10.0 fails to launch on Wi...   \n",
       "3  __label__bug TIN interpolation in Model Builde...   \n",
       "4  __label__bug Map Tip Position / Follow the Hyp...   \n",
       "\n",
       "                                repo_name  \n",
       "0  https://api.github.com/repos/qgis/QGIS  \n",
       "1  https://api.github.com/repos/qgis/QGIS  \n",
       "2  https://api.github.com/repos/qgis/QGIS  \n",
       "3  https://api.github.com/repos/qgis/QGIS  \n",
       "4  https://api.github.com/repos/qgis/QGIS  "
      ]
     },
     "execution_count": 90,
     "metadata": {},
     "output_type": "execute_result"
    }
   ],
   "source": [
    "import pandas as pd\n",
    "# custom data set\n",
    "data_path = r\"..\\dataset\\multiple_projects_benchmark_data.csv\"\n",
    "data_out_path = r\"..\\dataset\\CLEAN_multiple_projects_benchmark_data.csv\"\n",
    "df = pd.read_csv(data_path)\n",
    "df = df.dropna()\n",
    "df.head()\n"
   ]
  },
  {
   "cell_type": "code",
   "execution_count": 91,
   "metadata": {},
   "outputs": [],
   "source": [
    "# import pandas as pd\n",
    "\n",
    "# data_path = r\"..\\dataset\\dataset_balanced.txt\"\n",
    "# data_out_path = r\"..\\dataset\\CLEAN_balanced_data.csv\"\n",
    "\n",
    "# df = pd.read_csv(data_path,names=[\"f0_\"])\n",
    "# df = df.dropna()\n",
    "# df = df.drop(index=0).reset_index()\n",
    "# df.head()"
   ]
  },
  {
   "cell_type": "code",
   "execution_count": 92,
   "metadata": {},
   "outputs": [],
   "source": [
    "import pandas as pd\n",
    "\n",
    "# data_path = r\"..\\dataset\\dataset-labels-top3-30k-real.txt\"\n",
    "# data_out_path = r\"..\\dataset\\CLEAN_UNbalanced_data.csv\"\n",
    "\n",
    "# df = pd.read_csv(data_path,names=[\"f0_\"])\n",
    "# df = df.dropna()\n",
    "# df = df.drop(index=0).reset_index()\n",
    "# df.head()"
   ]
  },
  {
   "cell_type": "code",
   "execution_count": 93,
   "metadata": {},
   "outputs": [
    {
     "name": "stdout",
     "output_type": "stream",
     "text": [
      "Index(['descriptions', 'repo_name', 'labels'], dtype='object')\n"
     ]
    },
    {
     "data": {
      "text/html": [
       "<div>\n",
       "<style scoped>\n",
       "    .dataframe tbody tr th:only-of-type {\n",
       "        vertical-align: middle;\n",
       "    }\n",
       "\n",
       "    .dataframe tbody tr th {\n",
       "        vertical-align: top;\n",
       "    }\n",
       "\n",
       "    .dataframe thead th {\n",
       "        text-align: right;\n",
       "    }\n",
       "</style>\n",
       "<table border=\"1\" class=\"dataframe\">\n",
       "  <thead>\n",
       "    <tr style=\"text-align: right;\">\n",
       "      <th></th>\n",
       "      <th>descriptions</th>\n",
       "      <th>repo_name</th>\n",
       "      <th>labels</th>\n",
       "    </tr>\n",
       "  </thead>\n",
       "  <tbody>\n",
       "    <tr>\n",
       "      <th>0</th>\n",
       "      <td>__label__bug Single most recently added Custom...</td>\n",
       "      <td>https://api.github.com/repos/qgis/QGIS</td>\n",
       "      <td>__label__bug</td>\n",
       "    </tr>\n",
       "    <tr>\n",
       "      <th>1</th>\n",
       "      <td>__label__bug layer style effects not compatibl...</td>\n",
       "      <td>https://api.github.com/repos/qgis/QGIS</td>\n",
       "      <td>__label__bug</td>\n",
       "    </tr>\n",
       "    <tr>\n",
       "      <th>2</th>\n",
       "      <td>__label__bug QGIS 3.10.0 fails to launch on Wi...</td>\n",
       "      <td>https://api.github.com/repos/qgis/QGIS</td>\n",
       "      <td>__label__bug</td>\n",
       "    </tr>\n",
       "    <tr>\n",
       "      <th>3</th>\n",
       "      <td>__label__bug TIN interpolation in Model Builde...</td>\n",
       "      <td>https://api.github.com/repos/qgis/QGIS</td>\n",
       "      <td>__label__bug</td>\n",
       "    </tr>\n",
       "    <tr>\n",
       "      <th>4</th>\n",
       "      <td>__label__bug Map Tip Position / Follow the Hyp...</td>\n",
       "      <td>https://api.github.com/repos/qgis/QGIS</td>\n",
       "      <td>__label__bug</td>\n",
       "    </tr>\n",
       "  </tbody>\n",
       "</table>\n",
       "</div>"
      ],
      "text/plain": [
       "                                        descriptions  \\\n",
       "0  __label__bug Single most recently added Custom...   \n",
       "1  __label__bug layer style effects not compatibl...   \n",
       "2  __label__bug QGIS 3.10.0 fails to launch on Wi...   \n",
       "3  __label__bug TIN interpolation in Model Builde...   \n",
       "4  __label__bug Map Tip Position / Follow the Hyp...   \n",
       "\n",
       "                                repo_name        labels  \n",
       "0  https://api.github.com/repos/qgis/QGIS  __label__bug  \n",
       "1  https://api.github.com/repos/qgis/QGIS  __label__bug  \n",
       "2  https://api.github.com/repos/qgis/QGIS  __label__bug  \n",
       "3  https://api.github.com/repos/qgis/QGIS  __label__bug  \n",
       "4  https://api.github.com/repos/qgis/QGIS  __label__bug  "
      ]
     },
     "execution_count": 93,
     "metadata": {},
     "output_type": "execute_result"
    }
   ],
   "source": [
    "df['labels'] = df['f0_'].str.split(\" \").map(lambda x: x[0])\n",
    "df = df.rename(columns={'f0_':'descriptions'})\n",
    "print(df.columns)\n",
    "df.head()"
   ]
  },
  {
   "cell_type": "code",
   "execution_count": 94,
   "metadata": {},
   "outputs": [
    {
     "data": {
      "text/html": [
       "<div>\n",
       "<style scoped>\n",
       "    .dataframe tbody tr th:only-of-type {\n",
       "        vertical-align: middle;\n",
       "    }\n",
       "\n",
       "    .dataframe tbody tr th {\n",
       "        vertical-align: top;\n",
       "    }\n",
       "\n",
       "    .dataframe thead th {\n",
       "        text-align: right;\n",
       "    }\n",
       "</style>\n",
       "<table border=\"1\" class=\"dataframe\">\n",
       "  <thead>\n",
       "    <tr style=\"text-align: right;\">\n",
       "      <th></th>\n",
       "      <th></th>\n",
       "      <th>descriptions</th>\n",
       "    </tr>\n",
       "    <tr>\n",
       "      <th>repo_name</th>\n",
       "      <th>labels</th>\n",
       "      <th></th>\n",
       "    </tr>\n",
       "  </thead>\n",
       "  <tbody>\n",
       "    <tr>\n",
       "      <th>https://api.github.com/repos/Kaiserreich/Kaiserreich-4</th>\n",
       "      <th>__label__bug</th>\n",
       "      <td>7476</td>\n",
       "    </tr>\n",
       "    <tr>\n",
       "      <th rowspan=\"2\" valign=\"top\">https://api.github.com/repos/Microsoft/vscode</th>\n",
       "      <th>__label__bug</th>\n",
       "      <td>8005</td>\n",
       "    </tr>\n",
       "    <tr>\n",
       "      <th>__label__question</th>\n",
       "      <td>170</td>\n",
       "    </tr>\n",
       "    <tr>\n",
       "      <th rowspan=\"2\" valign=\"top\">https://api.github.com/repos/Regalis11/Barotrauma</th>\n",
       "      <th>__label__bug</th>\n",
       "      <td>3774</td>\n",
       "    </tr>\n",
       "    <tr>\n",
       "      <th>__label__question</th>\n",
       "      <td>7</td>\n",
       "    </tr>\n",
       "    <tr>\n",
       "      <th rowspan=\"3\" valign=\"top\">https://api.github.com/repos/dbeaver/dbeaver</th>\n",
       "      <th>__label__bug</th>\n",
       "      <td>4246</td>\n",
       "    </tr>\n",
       "    <tr>\n",
       "      <th>__label__enhancement</th>\n",
       "      <td>467</td>\n",
       "    </tr>\n",
       "    <tr>\n",
       "      <th>__label__question</th>\n",
       "      <td>1395</td>\n",
       "    </tr>\n",
       "    <tr>\n",
       "      <th rowspan=\"2\" valign=\"top\">https://api.github.com/repos/godotengine/godot</th>\n",
       "      <th>__label__bug</th>\n",
       "      <td>11591</td>\n",
       "    </tr>\n",
       "    <tr>\n",
       "      <th>__label__enhancement</th>\n",
       "      <td>1945</td>\n",
       "    </tr>\n",
       "    <tr>\n",
       "      <th rowspan=\"3\" valign=\"top\">https://api.github.com/repos/hashicorp/terraform</th>\n",
       "      <th>__label__bug</th>\n",
       "      <td>5008</td>\n",
       "    </tr>\n",
       "    <tr>\n",
       "      <th>__label__enhancement</th>\n",
       "      <td>1531</td>\n",
       "    </tr>\n",
       "    <tr>\n",
       "      <th>__label__question</th>\n",
       "      <td>277</td>\n",
       "    </tr>\n",
       "    <tr>\n",
       "      <th rowspan=\"2\" valign=\"top\">https://api.github.com/repos/libsdl-org/SDL</th>\n",
       "      <th>__label__bug</th>\n",
       "      <td>3183</td>\n",
       "    </tr>\n",
       "    <tr>\n",
       "      <th>__label__enhancement</th>\n",
       "      <td>196</td>\n",
       "    </tr>\n",
       "    <tr>\n",
       "      <th>https://api.github.com/repos/microsoft/vscode</th>\n",
       "      <th>__label__bug</th>\n",
       "      <td>8291</td>\n",
       "    </tr>\n",
       "    <tr>\n",
       "      <th>https://api.github.com/repos/qgis/QGIS</th>\n",
       "      <th>__label__bug</th>\n",
       "      <td>4612</td>\n",
       "    </tr>\n",
       "    <tr>\n",
       "      <th rowspan=\"2\" valign=\"top\">https://api.github.com/repos/rstudio/rstudio</th>\n",
       "      <th>__label__bug</th>\n",
       "      <td>1997</td>\n",
       "    </tr>\n",
       "    <tr>\n",
       "      <th>__label__enhancement</th>\n",
       "      <td>757</td>\n",
       "    </tr>\n",
       "    <tr>\n",
       "      <th rowspan=\"2\" valign=\"top\">https://api.github.com/repos/symfony/symfony</th>\n",
       "      <th>__label__bug</th>\n",
       "      <td>4045</td>\n",
       "    </tr>\n",
       "    <tr>\n",
       "      <th>__label__enhancement</th>\n",
       "      <td>120</td>\n",
       "    </tr>\n",
       "    <tr>\n",
       "      <th>https://api.github.com/repos/tgstation/tgstation</th>\n",
       "      <th>__label__bug</th>\n",
       "      <td>5575</td>\n",
       "    </tr>\n",
       "  </tbody>\n",
       "</table>\n",
       "</div>"
      ],
      "text/plain": [
       "                                                                         descriptions\n",
       "repo_name                                          labels                            \n",
       "https://api.github.com/repos/Kaiserreich/Kaiser... __label__bug                  7476\n",
       "https://api.github.com/repos/Microsoft/vscode      __label__bug                  8005\n",
       "                                                   __label__question              170\n",
       "https://api.github.com/repos/Regalis11/Barotrauma  __label__bug                  3774\n",
       "                                                   __label__question                7\n",
       "https://api.github.com/repos/dbeaver/dbeaver       __label__bug                  4246\n",
       "                                                   __label__enhancement           467\n",
       "                                                   __label__question             1395\n",
       "https://api.github.com/repos/godotengine/godot     __label__bug                 11591\n",
       "                                                   __label__enhancement          1945\n",
       "https://api.github.com/repos/hashicorp/terraform   __label__bug                  5008\n",
       "                                                   __label__enhancement          1531\n",
       "                                                   __label__question              277\n",
       "https://api.github.com/repos/libsdl-org/SDL        __label__bug                  3183\n",
       "                                                   __label__enhancement           196\n",
       "https://api.github.com/repos/microsoft/vscode      __label__bug                  8291\n",
       "https://api.github.com/repos/qgis/QGIS             __label__bug                  4612\n",
       "https://api.github.com/repos/rstudio/rstudio       __label__bug                  1997\n",
       "                                                   __label__enhancement           757\n",
       "https://api.github.com/repos/symfony/symfony       __label__bug                  4045\n",
       "                                                   __label__enhancement           120\n",
       "https://api.github.com/repos/tgstation/tgstation   __label__bug                  5575"
      ]
     },
     "execution_count": 94,
     "metadata": {},
     "output_type": "execute_result"
    }
   ],
   "source": [
    "df.groupby(['repo_name','labels']).agg({'descriptions':'count'})\n",
    "# df.groupby(['labels']).agg({'descriptions':'count'})"
   ]
  },
  {
   "cell_type": "code",
   "execution_count": 95,
   "metadata": {},
   "outputs": [],
   "source": [
    "import pandas as pd\n",
    "from sklearn.model_selection import train_test_split\n",
    "import neattext.functions as nfx\n",
    "import re"
   ]
  },
  {
   "cell_type": "code",
   "execution_count": 96,
   "metadata": {},
   "outputs": [],
   "source": [
    "# remove any non-english samples\n",
    "# reference: https://stackoverflow.com/a/150078/9960491\n",
    "reg_obj = re.compile(r'[^\\u0000-\\u007F]+', re.UNICODE)\n",
    "def is_english(desc):\n",
    "    return (False if reg_obj.match(desc) else True)\n",
    "\n",
    "df['is_english'] = df['descriptions'].apply(is_english)"
   ]
  },
  {
   "cell_type": "code",
   "execution_count": 97,
   "metadata": {},
   "outputs": [],
   "source": [
    "# remove the stopwords, emojis from the text and convert it into lower case\n",
    "def neatify_text(text):\n",
    "    text = str(text).lower()\n",
    "    text = nfx.remove_stopwords(text)\n",
    "    text = nfx.remove_emojis(text)\n",
    "#     text = nfx.remove_puncts(text)\n",
    "    return text\n",
    "\n",
    "df['descriptions'] = df['descriptions'].apply(neatify_text)"
   ]
  },
  {
   "cell_type": "code",
   "execution_count": 98,
   "metadata": {},
   "outputs": [],
   "source": [
    "# split dataset to train and dev samples\n",
    "RANDOM_SEED = 12\n",
    "x_train, x_test, y_train, y_test = train_test_split(df['descriptions'], df['labels'],\n",
    "                                                 test_size=0.3,\n",
    "                                                 random_state=RANDOM_SEED)\n",
    "df_train = pd.concat([x_train, y_train], axis=1).reset_index(drop=True)\n",
    "df_eval = pd.concat([x_test, y_test], axis=1).reset_index(drop=True)\n"
   ]
  },
  {
   "cell_type": "code",
   "execution_count": 99,
   "metadata": {},
   "outputs": [
    {
     "data": {
      "text/html": [
       "<div>\n",
       "<style scoped>\n",
       "    .dataframe tbody tr th:only-of-type {\n",
       "        vertical-align: middle;\n",
       "    }\n",
       "\n",
       "    .dataframe tbody tr th {\n",
       "        vertical-align: top;\n",
       "    }\n",
       "\n",
       "    .dataframe thead th {\n",
       "        text-align: right;\n",
       "    }\n",
       "</style>\n",
       "<table border=\"1\" class=\"dataframe\">\n",
       "  <thead>\n",
       "    <tr style=\"text-align: right;\">\n",
       "      <th></th>\n",
       "      <th>descriptions</th>\n",
       "    </tr>\n",
       "    <tr>\n",
       "      <th>labels</th>\n",
       "      <th></th>\n",
       "    </tr>\n",
       "  </thead>\n",
       "  <tbody>\n",
       "    <tr>\n",
       "      <th>__label__bug</th>\n",
       "      <td>67803</td>\n",
       "    </tr>\n",
       "    <tr>\n",
       "      <th>__label__enhancement</th>\n",
       "      <td>5016</td>\n",
       "    </tr>\n",
       "    <tr>\n",
       "      <th>__label__question</th>\n",
       "      <td>1849</td>\n",
       "    </tr>\n",
       "  </tbody>\n",
       "</table>\n",
       "</div>"
      ],
      "text/plain": [
       "                      descriptions\n",
       "labels                            \n",
       "__label__bug                 67803\n",
       "__label__enhancement          5016\n",
       "__label__question             1849"
      ]
     },
     "execution_count": 99,
     "metadata": {},
     "output_type": "execute_result"
    }
   ],
   "source": [
    "df.groupby(['labels']).agg({'descriptions':'count'})"
   ]
  },
  {
   "cell_type": "code",
   "execution_count": 100,
   "metadata": {},
   "outputs": [],
   "source": [
    "# # save train and eval dataframes to csv\n",
    "df_train.to_csv(r\"../dataset/Mult_train.csv\")\n",
    "df_eval.to_csv(r\"../dataset/Mult_eval.csv\")\n",
    "df.to_csv(data_out_path)"
   ]
  },
  {
   "cell_type": "code",
   "execution_count": 89,
   "metadata": {},
   "outputs": [],
   "source": [
    "# save train and eval dataframes to csv\n",
    "# df_train.to_csv(r\"../dataset/balanced_train.csv\")\n",
    "# df_eval.to_csv(r\"../dataset/balanced_eval.csv\")\n",
    "# df.to_csv(data_out_path)"
   ]
  },
  {
   "cell_type": "code",
   "execution_count": null,
   "metadata": {},
   "outputs": [],
   "source": [
    "# save train and eval dataframes to csv\n",
    "# df_train.to_csv(r\"../dataset/unbalanced_train.csv\")\n",
    "# df_eval.to_csv(r\"../dataset/unbalanced_eval.csv\")\n",
    "# df.to_csv(data_out_path)"
   ]
  }
 ],
 "metadata": {
  "kernelspec": {
   "display_name": "Python 3.9.7 ('base')",
   "language": "python",
   "name": "python3"
  },
  "language_info": {
   "codemirror_mode": {
    "name": "ipython",
    "version": 3
   },
   "file_extension": ".py",
   "mimetype": "text/x-python",
   "name": "python",
   "nbconvert_exporter": "python",
   "pygments_lexer": "ipython3",
   "version": "3.9.7"
  },
  "orig_nbformat": 4,
  "vscode": {
   "interpreter": {
    "hash": "8ef95568004652f776bd8622263a31e0f4453e284693cb553c5f4e384f04eb19"
   }
  }
 },
 "nbformat": 4,
 "nbformat_minor": 2
}
