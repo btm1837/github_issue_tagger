{
 "cells": [
  {
   "cell_type": "markdown",
   "metadata": {},
   "source": [
    "# Download Data for baseline"
   ]
  },
  {
   "cell_type": "code",
   "execution_count": 13,
   "metadata": {},
   "outputs": [
    {
     "data": {
      "text/plain": [
       "'../dataset/dataset-labels-top3-30k-real (1).txt'"
      ]
     },
     "execution_count": 13,
     "metadata": {},
     "output_type": "execute_result"
    }
   ],
   "source": [
    "import wget\n",
    "url = r\"https://tickettagger.blob.core.windows.net/datasets/dataset-labels-top3-30k-real.txt\"\n",
    "output = r\"../dataset/dataset-labels-top3-30k-real.txt\"\n",
    "wget.download(url,output)\n",
    "\n",
    "url = r\"https://gist.githubusercontent.com/rafaelkallis/6aa281b00d73d77fc843bd34f8184854/raw/8c10ebf2fd6f937f8667c660ea33d122bac739eb/issues.txt\"\n",
    "output = r\"../dataset/dataset_balanced.txt\"\n",
    "wget.download(url,output)"
   ]
  },
  {
   "cell_type": "markdown",
   "metadata": {},
   "source": [
    "## look at pivot table of data from other repos"
   ]
  },
  {
   "cell_type": "markdown",
   "metadata": {},
   "source": []
  },
  {
   "cell_type": "code",
   "execution_count": 90,
   "metadata": {},
   "outputs": [
    {
     "data": {
      "text/html": [
       "<div>\n",
       "<style scoped>\n",
       "    .dataframe tbody tr th:only-of-type {\n",
       "        vertical-align: middle;\n",
       "    }\n",
       "\n",
       "    .dataframe tbody tr th {\n",
       "        vertical-align: top;\n",
       "    }\n",
       "\n",
       "    .dataframe thead th {\n",
       "        text-align: right;\n",
       "    }\n",
       "</style>\n",
       "<table border=\"1\" class=\"dataframe\">\n",
       "  <thead>\n",
       "    <tr style=\"text-align: right;\">\n",
       "      <th></th>\n",
       "      <th>f0_</th>\n",
       "      <th>repo_name</th>\n",
       "    </tr>\n",
       "  </thead>\n",
       "  <tbody>\n",
       "    <tr>\n",
       "      <th>0</th>\n",
       "      <td>__label__bug Single most recently added Custom...</td>\n",
       "      <td>https://api.github.com/repos/qgis/QGIS</td>\n",
       "    </tr>\n",
       "    <tr>\n",
       "      <th>1</th>\n",
       "      <td>__label__bug layer style effects not compatibl...</td>\n",
       "      <td>https://api.github.com/repos/qgis/QGIS</td>\n",
       "    </tr>\n",
       "    <tr>\n",
       "      <th>2</th>\n",
       "      <td>__label__bug QGIS 3.10.0 fails to launch on Wi...</td>\n",
       "      <td>https://api.github.com/repos/qgis/QGIS</td>\n",
       "    </tr>\n",
       "    <tr>\n",
       "      <th>3</th>\n",
       "      <td>__label__bug TIN interpolation in Model Builde...</td>\n",
       "      <td>https://api.github.com/repos/qgis/QGIS</td>\n",
       "    </tr>\n",
       "    <tr>\n",
       "      <th>4</th>\n",
       "      <td>__label__bug Map Tip Position / Follow the Hyp...</td>\n",
       "      <td>https://api.github.com/repos/qgis/QGIS</td>\n",
       "    </tr>\n",
       "  </tbody>\n",
       "</table>\n",
       "</div>"
      ],
      "text/plain": [
       "                                                 f0_  \\\n",
       "0  __label__bug Single most recently added Custom...   \n",
       "1  __label__bug layer style effects not compatibl...   \n",
       "2  __label__bug QGIS 3.10.0 fails to launch on Wi...   \n",
       "3  __label__bug TIN interpolation in Model Builde...   \n",
       "4  __label__bug Map Tip Position / Follow the Hyp...   \n",
       "\n",
       "                                repo_name  \n",
       "0  https://api.github.com/repos/qgis/QGIS  \n",
       "1  https://api.github.com/repos/qgis/QGIS  \n",
       "2  https://api.github.com/repos/qgis/QGIS  \n",
       "3  https://api.github.com/repos/qgis/QGIS  \n",
       "4  https://api.github.com/repos/qgis/QGIS  "
      ]
     },
     "execution_count": 90,
     "metadata": {},
     "output_type": "execute_result"
    }
   ],
   "source": [
    "import pandas as pd\n",
    "# custom data set\n",
    "data_path = r\"..\\dataset\\multiple_projects_benchmark_data.csv\"\n",
    "data_out_path = r\"..\\dataset\\CLEAN_multiple_projects_benchmark_data.csv\"\n",
    "df = pd.read_csv(data_path)\n",
    "df = df.dropna()\n",
    "df.head()\n"
   ]
  },
  {
   "cell_type": "code",
   "execution_count": 91,
   "metadata": {},
   "outputs": [],
   "source": [
    "# import pandas as pd\n",
    "\n",
    "# data_path = r\"..\\dataset\\dataset_balanced.txt\"\n",
    "# data_out_path = r\"..\\dataset\\CLEAN_balanced_data.csv\"\n",
    "\n",
    "# df = pd.read_csv(data_path,names=[\"f0_\"])\n",
    "# df = df.dropna()\n",
    "# df = df.drop(index=0).reset_index()\n",
    "# df.head()"
   ]
  },
  {
   "cell_type": "code",
   "execution_count": 131,
   "metadata": {},
   "outputs": [
    {
     "data": {
      "text/html": [
       "<div>\n",
       "<style scoped>\n",
       "    .dataframe tbody tr th:only-of-type {\n",
       "        vertical-align: middle;\n",
       "    }\n",
       "\n",
       "    .dataframe tbody tr th {\n",
       "        vertical-align: top;\n",
       "    }\n",
       "\n",
       "    .dataframe thead th {\n",
       "        text-align: right;\n",
       "    }\n",
       "</style>\n",
       "<table border=\"1\" class=\"dataframe\">\n",
       "  <thead>\n",
       "    <tr style=\"text-align: right;\">\n",
       "      <th></th>\n",
       "      <th>f0_</th>\n",
       "    </tr>\n",
       "  </thead>\n",
       "  <tbody>\n",
       "    <tr>\n",
       "      <th>0</th>\n",
       "      <td>__label__enhancement Subpasses in MSL and HLSL...</td>\n",
       "    </tr>\n",
       "    <tr>\n",
       "      <th>1</th>\n",
       "      <td>__label__enhancement Collect new discovered no...</td>\n",
       "    </tr>\n",
       "    <tr>\n",
       "      <th>2</th>\n",
       "      <td>__label__enhancement Lock property : several p...</td>\n",
       "    </tr>\n",
       "    <tr>\n",
       "      <th>3</th>\n",
       "      <td>__label__bug Return default location type labe...</td>\n",
       "    </tr>\n",
       "    <tr>\n",
       "      <th>4</th>\n",
       "      <td>__label__enhancement Randomize: remove sliders</td>\n",
       "    </tr>\n",
       "    <tr>\n",
       "      <th>...</th>\n",
       "      <td>...</td>\n",
       "    </tr>\n",
       "    <tr>\n",
       "      <th>29994</th>\n",
       "      <td>__label__enhancement [TW-241] new column forma...</td>\n",
       "    </tr>\n",
       "    <tr>\n",
       "      <th>29995</th>\n",
       "      <td>__label__bug Error When using the example.    ...</td>\n",
       "    </tr>\n",
       "    <tr>\n",
       "      <th>29996</th>\n",
       "      <td>__label__bug CorrelationId should be generated...</td>\n",
       "    </tr>\n",
       "    <tr>\n",
       "      <th>29997</th>\n",
       "      <td>__label__enhancement screenshot sidecar should...</td>\n",
       "    </tr>\n",
       "    <tr>\n",
       "      <th>29998</th>\n",
       "      <td>__label__enhancement Reading / Content: increa...</td>\n",
       "    </tr>\n",
       "  </tbody>\n",
       "</table>\n",
       "<p>29999 rows × 1 columns</p>\n",
       "</div>"
      ],
      "text/plain": [
       "                                                     f0_\n",
       "0      __label__enhancement Subpasses in MSL and HLSL...\n",
       "1      __label__enhancement Collect new discovered no...\n",
       "2      __label__enhancement Lock property : several p...\n",
       "3      __label__bug Return default location type labe...\n",
       "4        __label__enhancement Randomize: remove sliders \n",
       "...                                                  ...\n",
       "29994  __label__enhancement [TW-241] new column forma...\n",
       "29995  __label__bug Error When using the example.    ...\n",
       "29996  __label__bug CorrelationId should be generated...\n",
       "29997  __label__enhancement screenshot sidecar should...\n",
       "29998  __label__enhancement Reading / Content: increa...\n",
       "\n",
       "[29999 rows x 1 columns]"
      ]
     },
     "execution_count": 131,
     "metadata": {},
     "output_type": "execute_result"
    }
   ],
   "source": [
    "import pandas as pd\n",
    "\n",
    "data_path = r\"..\\dataset\\dataset-labels-top3-30k-real.txt\"\n",
    "data_out_path = r\"..\\dataset\\CLEAN_UNbalanced_data.csv\"\n",
    "\n",
    "df = pd.read_csv(data_path,names=[\"f0_\"])\n",
    "df = df.dropna()\n",
    "df = df.drop(index=0).reset_index()\n",
    "df.head()\n",
    "df.drop(columns=['index'])"
   ]
  },
  {
   "cell_type": "code",
   "execution_count": 132,
   "metadata": {},
   "outputs": [],
   "source": [
    "# df['labels'] = df['f0_'].str.split(\" \").map(lambda x: x[0])\n",
    "# df = df.rename(columns={'f0_':'descriptions'})\n",
    "# print(df.columns)\n",
    "# df.head()"
   ]
  },
  {
   "cell_type": "code",
   "execution_count": 133,
   "metadata": {},
   "outputs": [],
   "source": [
    "# df.groupby(['repo_name','labels']).agg({'descriptions':'count'})\n",
    "# df.groupby(['labels']).agg({'descriptions':'count'})"
   ]
  },
  {
   "cell_type": "code",
   "execution_count": 134,
   "metadata": {},
   "outputs": [
    {
     "name": "stdout",
     "output_type": "stream",
     "text": [
      "                 labels                                       descriptions\n",
      "0  __label__enhancement   Subpasses in MSL and HLSL Sorry for all the i...\n",
      "1  __label__enhancement   Collect new discovered nodes Collect new adde...\n",
      "2  __label__enhancement        Lock property : several properties at once \n",
      "4  __label__enhancement                         Randomize: remove sliders \n",
      "8  __label__enhancement   feature request: local invoke inside action c...\n",
      "         labels                                       descriptions\n",
      "3  __label__bug   Return default location type label if custom ...\n",
      "5  __label__bug   [TW-417] JSON export has extra commas (on 2.1...\n",
      "6  __label__bug   System.AccessViolationException: my program t...\n",
      "7  __label__bug   Topic mining fails with UnicodeEncodeError ``...\n",
      "9  __label__bug   Preflight and non-batching requests throw an ...\n",
      "                labels                                       descriptions\n",
      "11   __label__question   Avoiding the default NotEmpty::IS_EMPTY valid...\n",
      "29   __label__question   Is there a way to authenticate the video stre...\n",
      "67   __label__question   Disable rotation of the plugin Hi,  I disable...\n",
      "111  __label__question   Question: Rule and Strategy over certain time...\n",
      "123  __label__question           Is the .postcssrc file still necessary? \n"
     ]
    },
    {
     "data": {
      "text/html": [
       "<div>\n",
       "<style scoped>\n",
       "    .dataframe tbody tr th:only-of-type {\n",
       "        vertical-align: middle;\n",
       "    }\n",
       "\n",
       "    .dataframe tbody tr th {\n",
       "        vertical-align: top;\n",
       "    }\n",
       "\n",
       "    .dataframe thead th {\n",
       "        text-align: right;\n",
       "    }\n",
       "</style>\n",
       "<table border=\"1\" class=\"dataframe\">\n",
       "  <thead>\n",
       "    <tr style=\"text-align: right;\">\n",
       "      <th></th>\n",
       "      <th>labels</th>\n",
       "      <th>descriptions</th>\n",
       "    </tr>\n",
       "  </thead>\n",
       "  <tbody>\n",
       "    <tr>\n",
       "      <th>0</th>\n",
       "      <td>enhancement</td>\n",
       "      <td>Subpasses in MSL and HLSL Sorry for all the is...</td>\n",
       "    </tr>\n",
       "    <tr>\n",
       "      <th>1</th>\n",
       "      <td>enhancement</td>\n",
       "      <td>Collect new discovered nodes Collect new added...</td>\n",
       "    </tr>\n",
       "    <tr>\n",
       "      <th>2</th>\n",
       "      <td>enhancement</td>\n",
       "      <td>Lock property : several properties at once</td>\n",
       "    </tr>\n",
       "    <tr>\n",
       "      <th>4</th>\n",
       "      <td>enhancement</td>\n",
       "      <td>Randomize: remove sliders</td>\n",
       "    </tr>\n",
       "    <tr>\n",
       "      <th>8</th>\n",
       "      <td>enhancement</td>\n",
       "      <td>feature request: local invoke inside action co...</td>\n",
       "    </tr>\n",
       "  </tbody>\n",
       "</table>\n",
       "</div>"
      ],
      "text/plain": [
       "        labels                                       descriptions\n",
       "0  enhancement  Subpasses in MSL and HLSL Sorry for all the is...\n",
       "1  enhancement  Collect new discovered nodes Collect new added...\n",
       "2  enhancement         Lock property : several properties at once\n",
       "4  enhancement                          Randomize: remove sliders\n",
       "8  enhancement  feature request: local invoke inside action co..."
      ]
     },
     "execution_count": 134,
     "metadata": {},
     "output_type": "execute_result"
    }
   ],
   "source": [
    "# Cleaning the text\n",
    "df = df['f0_'].str.split(r'(__label__enhancement)|(__label__bug)|(__label__question)', expand=True)\n",
    "# retrieve data to separate dataframe for each labels\n",
    "enh_df = df[df[1] == '__label__enhancement'][[1, 4]]\n",
    "bug_df = df[df[2] == '__label__bug'][[2, 4]]\n",
    "question_df = df[df[3] == '__label__question'][[3, 4]]\n",
    "\n",
    "# assign column names to each df\n",
    "enh_df.columns = ['labels', 'descriptions']\n",
    "bug_df.columns = ['labels', 'descriptions']\n",
    "question_df.columns = ['labels', 'descriptions']\n",
    "\n",
    "print(enh_df.head())\n",
    "print(bug_df.head())\n",
    "print(question_df.head())\n",
    "\n",
    "# remove the prefix '__label__' string from column labels\n",
    "enh_df['labels'] = enh_df['labels'].str.replace('__label__', '')\n",
    "bug_df['labels'] = bug_df['labels'].str.replace('__label__', '')\n",
    "question_df['labels'] = question_df['labels'].str.replace('__label__', '')\n",
    "\n",
    "# strip away and leading & trailing spaces\n",
    "enh_df['descriptions'] = enh_df['descriptions'].str.strip(' ')\n",
    "bug_df['descriptions'] = bug_df['descriptions'].str.strip(' ')\n",
    "question_df['descriptions'] = question_df['descriptions'].str.strip(' ')\n",
    "\n",
    "# concatenate each df to single dataframe\n",
    "df = pd.concat([enh_df, bug_df, question_df])\n",
    "\n",
    "df.head()\n"
   ]
  },
  {
   "cell_type": "code",
   "execution_count": 135,
   "metadata": {},
   "outputs": [],
   "source": [
    "import pandas as pd\n",
    "from sklearn.model_selection import train_test_split\n",
    "import neattext.functions as nfx\n",
    "import re"
   ]
  },
  {
   "cell_type": "code",
   "execution_count": 136,
   "metadata": {},
   "outputs": [],
   "source": [
    "# remove any non-english samples\n",
    "# reference: https://stackoverflow.com/a/150078/9960491\n",
    "reg_obj = re.compile(r'[^\\u0000-\\u007F]+', re.UNICODE)\n",
    "def is_english(desc):\n",
    "    return (False if reg_obj.match(desc) else True)\n",
    "\n",
    "df['is_english'] = df['descriptions'].apply(is_english)\n",
    "df = df[df['is_english']][['labels', 'descriptions']]"
   ]
  },
  {
   "cell_type": "code",
   "execution_count": 137,
   "metadata": {},
   "outputs": [],
   "source": [
    "# remove the stopwords, emojis from the text and convert it into lower case\n",
    "def neatify_text(text):\n",
    "    text = str(text).lower()\n",
    "    text = nfx.remove_stopwords(text)\n",
    "    text = nfx.remove_emojis(text)\n",
    "#     text = nfx.remove_puncts(text)\n",
    "    return text\n",
    "\n",
    "df['descriptions'] = df['descriptions'].apply(neatify_text)"
   ]
  },
  {
   "cell_type": "code",
   "execution_count": 138,
   "metadata": {},
   "outputs": [],
   "source": [
    "# split dataset to train and dev samples\n",
    "RANDOM_SEED = 12\n",
    "x_train, x_test, y_train, y_test = train_test_split(df['descriptions'], df['labels'],\n",
    "                                                 test_size=0.3,\n",
    "                                                 random_state=RANDOM_SEED)\n",
    "df_train = pd.concat([x_train, y_train], axis=1).reset_index(drop=True)\n",
    "df_eval = pd.concat([x_test, y_test], axis=1).reset_index(drop=True)\n"
   ]
  },
  {
   "cell_type": "code",
   "execution_count": 139,
   "metadata": {},
   "outputs": [
    {
     "name": "stdout",
     "output_type": "stream",
     "text": [
      "        labels                                       descriptions\n",
      "0  enhancement  subpasses msl hlsl sorry issues  given followi...\n",
      "1  enhancement  collect new discovered nodes collect new added...\n",
      "2  enhancement                         lock property : properties\n",
      "4  enhancement                          randomize: remove sliders\n",
      "8  enhancement  feature request: local invoke inside action co...\n"
     ]
    }
   ],
   "source": [
    "df.groupby(['labels']).agg({'descriptions':'count'})\n",
    "print(df.head())"
   ]
  },
  {
   "cell_type": "code",
   "execution_count": 140,
   "metadata": {},
   "outputs": [],
   "source": [
    "# # # save train and eval dataframes to csv\n",
    "# df_train.to_csv(r\"../dataset/Mult_train.csv\")\n",
    "# df_eval.to_csv(r\"../dataset/Mult_eval.csv\")\n",
    "# df.to_csv(data_out_path)"
   ]
  },
  {
   "cell_type": "code",
   "execution_count": 141,
   "metadata": {},
   "outputs": [],
   "source": [
    "# save train and eval dataframes to csv\n",
    "# df_train.to_csv(r\"../dataset/balanced_train.csv\")\n",
    "# df_eval.to_csv(r\"../dataset/balanced_eval.csv\")\n",
    "# df.to_csv(data_out_path)"
   ]
  },
  {
   "cell_type": "code",
   "execution_count": 142,
   "metadata": {},
   "outputs": [],
   "source": [
    "# save train and eval dataframes to csv\n",
    "df_train.to_csv(r\"../dataset/unbalanced_train.csv\",index=False)\n",
    "df_eval.to_csv(r\"../dataset/unbalanced_eval.csv\",index=False)\n",
    "df.to_csv(data_out_path,index=False)"
   ]
  },
  {
   "cell_type": "code",
   "execution_count": null,
   "metadata": {},
   "outputs": [],
   "source": []
  }
 ],
 "metadata": {
  "kernelspec": {
   "display_name": "Python 3.9.7 ('base')",
   "language": "python",
   "name": "python3"
  },
  "language_info": {
   "codemirror_mode": {
    "name": "ipython",
    "version": 3
   },
   "file_extension": ".py",
   "mimetype": "text/x-python",
   "name": "python",
   "nbconvert_exporter": "python",
   "pygments_lexer": "ipython3",
   "version": "3.9.7"
  },
  "orig_nbformat": 4,
  "vscode": {
   "interpreter": {
    "hash": "8ef95568004652f776bd8622263a31e0f4453e284693cb553c5f4e384f04eb19"
   }
  }
 },
 "nbformat": 4,
 "nbformat_minor": 2
}
