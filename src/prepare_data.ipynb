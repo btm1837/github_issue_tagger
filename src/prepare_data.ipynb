{
 "cells": [
  {
   "cell_type": "markdown",
   "metadata": {},
   "source": [
    "# Download Data for baseline"
   ]
  },
  {
   "cell_type": "code",
   "execution_count": 13,
   "metadata": {},
   "outputs": [
    {
     "data": {
      "text/plain": [
       "'../dataset/dataset-labels-top3-30k-real (1).txt'"
      ]
     },
     "execution_count": 13,
     "metadata": {},
     "output_type": "execute_result"
    }
   ],
   "source": [
    "import wget\n",
    "url = r\"https://tickettagger.blob.core.windows.net/datasets/dataset-labels-top3-30k-real.txt\"\n",
    "output = r\"../dataset/dataset-labels-top3-30k-real.txt\"\n",
    "wget.download(url,output)\n",
    "\n",
    "url = r\"https://gist.githubusercontent.com/rafaelkallis/6aa281b00d73d77fc843bd34f8184854/raw/8c10ebf2fd6f937f8667c660ea33d122bac739eb/issues.txt\"\n",
    "output = r\"../dataset/dataset_balanced.txt\"\n",
    "wget.download(url,output)"
   ]
  },
  {
   "cell_type": "markdown",
   "metadata": {},
   "source": [
    "## look at pivot table of data from other repos"
   ]
  },
  {
   "cell_type": "markdown",
   "metadata": {},
   "source": []
  },
  {
   "cell_type": "code",
   "execution_count": 23,
   "metadata": {},
   "outputs": [
    {
     "data": {
      "text/html": [
       "<div>\n",
       "<style scoped>\n",
       "    .dataframe tbody tr th:only-of-type {\n",
       "        vertical-align: middle;\n",
       "    }\n",
       "\n",
       "    .dataframe tbody tr th {\n",
       "        vertical-align: top;\n",
       "    }\n",
       "\n",
       "    .dataframe thead th {\n",
       "        text-align: right;\n",
       "    }\n",
       "</style>\n",
       "<table border=\"1\" class=\"dataframe\">\n",
       "  <thead>\n",
       "    <tr style=\"text-align: right;\">\n",
       "      <th></th>\n",
       "      <th>f0_</th>\n",
       "      <th>repo_name</th>\n",
       "    </tr>\n",
       "  </thead>\n",
       "  <tbody>\n",
       "    <tr>\n",
       "      <th>0</th>\n",
       "      <td>__label__bug Single most recently added Custom...</td>\n",
       "      <td>https://api.github.com/repos/qgis/QGIS</td>\n",
       "    </tr>\n",
       "    <tr>\n",
       "      <th>1</th>\n",
       "      <td>__label__bug layer style effects not compatibl...</td>\n",
       "      <td>https://api.github.com/repos/qgis/QGIS</td>\n",
       "    </tr>\n",
       "    <tr>\n",
       "      <th>2</th>\n",
       "      <td>__label__bug QGIS 3.10.0 fails to launch on Wi...</td>\n",
       "      <td>https://api.github.com/repos/qgis/QGIS</td>\n",
       "    </tr>\n",
       "    <tr>\n",
       "      <th>3</th>\n",
       "      <td>__label__bug TIN interpolation in Model Builde...</td>\n",
       "      <td>https://api.github.com/repos/qgis/QGIS</td>\n",
       "    </tr>\n",
       "    <tr>\n",
       "      <th>4</th>\n",
       "      <td>__label__bug Map Tip Position / Follow the Hyp...</td>\n",
       "      <td>https://api.github.com/repos/qgis/QGIS</td>\n",
       "    </tr>\n",
       "  </tbody>\n",
       "</table>\n",
       "</div>"
      ],
      "text/plain": [
       "                                                 f0_  \\\n",
       "0  __label__bug Single most recently added Custom...   \n",
       "1  __label__bug layer style effects not compatibl...   \n",
       "2  __label__bug QGIS 3.10.0 fails to launch on Wi...   \n",
       "3  __label__bug TIN interpolation in Model Builde...   \n",
       "4  __label__bug Map Tip Position / Follow the Hyp...   \n",
       "\n",
       "                                repo_name  \n",
       "0  https://api.github.com/repos/qgis/QGIS  \n",
       "1  https://api.github.com/repos/qgis/QGIS  \n",
       "2  https://api.github.com/repos/qgis/QGIS  \n",
       "3  https://api.github.com/repos/qgis/QGIS  \n",
       "4  https://api.github.com/repos/qgis/QGIS  "
      ]
     },
     "execution_count": 23,
     "metadata": {},
     "output_type": "execute_result"
    }
   ],
   "source": [
    "import pandas as pd\n",
    "# custom data set\n",
    "data_path = r\"..\\dataset\\multiple_projects_benchmark_data.csv\"\n",
    "data_out_path = r\"..\\dataset\\CLEAN_multiple_projects_benchmark_data.csv\"\n",
    "df = pd.read_csv(data_path)\n",
    "df = df.dropna()\n",
    "df.head()\n"
   ]
  },
  {
   "cell_type": "code",
   "execution_count": 147,
   "metadata": {},
   "outputs": [],
   "source": [
    "# import pandas as pd\n",
    "\n",
    "# data_path = r\"..\\dataset\\dataset_balanced.txt\"\n",
    "# data_out_path = r\"..\\dataset\\CLEAN_balanced_data.csv\"\n",
    "\n",
    "# df = pd.read_csv(data_path,names=[\"f0_\"])\n",
    "# df = df.dropna()\n",
    "# df = df.drop(index=0).reset_index()\n",
    "# df.head()"
   ]
  },
  {
   "cell_type": "code",
   "execution_count": 148,
   "metadata": {},
   "outputs": [],
   "source": [
    "# import pandas as pd\n",
    "\n",
    "# data_path = r\"..\\dataset\\dataset-labels-top3-30k-real.txt\"\n",
    "# data_out_path = r\"..\\dataset\\CLEAN_UNbalanced_data.csv\"\n",
    "\n",
    "# df = pd.read_csv(data_path,names=[\"f0_\"])\n",
    "# df = df.dropna()\n",
    "# df = df.drop(index=0).reset_index()\n",
    "# df.head()\n",
    "# df.drop(columns=['index'])"
   ]
  },
  {
   "cell_type": "code",
   "execution_count": 149,
   "metadata": {},
   "outputs": [],
   "source": [
    "# df['labels'] = df['f0_'].str.split(\" \").map(lambda x: x[0])\n",
    "# df = df.rename(columns={'f0_':'descriptions'})\n",
    "# print(df.columns)\n",
    "# df.head()"
   ]
  },
  {
   "cell_type": "code",
   "execution_count": 150,
   "metadata": {},
   "outputs": [],
   "source": [
    "# df.groupby(['repo_name','labels']).agg({'descriptions':'count'})\n",
    "# df.groupby(['labels']).agg({'descriptions':'count'})"
   ]
  },
  {
   "cell_type": "code",
   "execution_count": 24,
   "metadata": {},
   "outputs": [
    {
     "name": "stdout",
     "output_type": "stream",
     "text": [
      "                         1                                                  4  \\\n",
      "4625  __label__enhancement   clarify SDL_LockTexture() description  # This...   \n",
      "4655  __label__enhancement   [Patch] Add Stadia controller to gamecontroll...   \n",
      "4657  __label__enhancement   FEATURE: SDL_OpenURL()  # This bug report was...   \n",
      "4730  __label__enhancement   SDL Mutex Implementation Subpar  # This bug r...   \n",
      "4750  __label__enhancement   Please allow desktop OpenGL contexts under EG...   \n",
      "\n",
      "                                        repo_name  \n",
      "4625  https://api.github.com/repos/libsdl-org/SDL  \n",
      "4655  https://api.github.com/repos/libsdl-org/SDL  \n",
      "4657  https://api.github.com/repos/libsdl-org/SDL  \n",
      "4730  https://api.github.com/repos/libsdl-org/SDL  \n",
      "4750  https://api.github.com/repos/libsdl-org/SDL  \n",
      "              2                                                  4  \\\n",
      "0  __label__bug   Single most recently added Custom GDAL \"Creat...   \n",
      "1  __label__bug   layer style effects not compatible with inver...   \n",
      "2  __label__bug   QGIS 3.10.0 fails to launch on Windows 10 Hi ...   \n",
      "3  __label__bug   TIN interpolation in Model Builder not editab...   \n",
      "4  __label__bug   Map Tip Position / Follow the Hyperlink In ea...   \n",
      "\n",
      "                                repo_name  \n",
      "0  https://api.github.com/repos/qgis/QGIS  \n",
      "1  https://api.github.com/repos/qgis/QGIS  \n",
      "2  https://api.github.com/repos/qgis/QGIS  \n",
      "3  https://api.github.com/repos/qgis/QGIS  \n",
      "4  https://api.github.com/repos/qgis/QGIS  \n",
      "                      3                                                  4  \\\n",
      "7995  __label__question   DBeaver vs. Postgersql 10 I have the DBeaver ...   \n",
      "7998  __label__question   in context of joining suggest table names ![d...   \n",
      "8001  __label__question   Question: How to add attributes to table colu...   \n",
      "8002  __label__question   Display database name Hello    is it possible...   \n",
      "8003  __label__question   Link folder is deleting folder in Windows Hi ...   \n",
      "\n",
      "                                         repo_name  \n",
      "7995  https://api.github.com/repos/dbeaver/dbeaver  \n",
      "7998  https://api.github.com/repos/dbeaver/dbeaver  \n",
      "8001  https://api.github.com/repos/dbeaver/dbeaver  \n",
      "8002  https://api.github.com/repos/dbeaver/dbeaver  \n",
      "8003  https://api.github.com/repos/dbeaver/dbeaver  \n",
      "                    labels                                       descriptions  \\\n",
      "4625  __label__enhancement   clarify SDL_LockTexture() description  # This...   \n",
      "4655  __label__enhancement   [Patch] Add Stadia controller to gamecontroll...   \n",
      "4657  __label__enhancement   FEATURE: SDL_OpenURL()  # This bug report was...   \n",
      "4730  __label__enhancement   SDL Mutex Implementation Subpar  # This bug r...   \n",
      "4750  __label__enhancement   Please allow desktop OpenGL contexts under EG...   \n",
      "\n",
      "                                        repo_name  \n",
      "4625  https://api.github.com/repos/libsdl-org/SDL  \n",
      "4655  https://api.github.com/repos/libsdl-org/SDL  \n",
      "4657  https://api.github.com/repos/libsdl-org/SDL  \n",
      "4730  https://api.github.com/repos/libsdl-org/SDL  \n",
      "4750  https://api.github.com/repos/libsdl-org/SDL  \n",
      "         labels                                       descriptions  \\\n",
      "0  __label__bug   Single most recently added Custom GDAL \"Creat...   \n",
      "1  __label__bug   layer style effects not compatible with inver...   \n",
      "2  __label__bug   QGIS 3.10.0 fails to launch on Windows 10 Hi ...   \n",
      "3  __label__bug   TIN interpolation in Model Builder not editab...   \n",
      "4  __label__bug   Map Tip Position / Follow the Hyperlink In ea...   \n",
      "\n",
      "                                repo_name  \n",
      "0  https://api.github.com/repos/qgis/QGIS  \n",
      "1  https://api.github.com/repos/qgis/QGIS  \n",
      "2  https://api.github.com/repos/qgis/QGIS  \n",
      "3  https://api.github.com/repos/qgis/QGIS  \n",
      "4  https://api.github.com/repos/qgis/QGIS  \n",
      "                 labels                                       descriptions  \\\n",
      "7995  __label__question   DBeaver vs. Postgersql 10 I have the DBeaver ...   \n",
      "7998  __label__question   in context of joining suggest table names ![d...   \n",
      "8001  __label__question   Question: How to add attributes to table colu...   \n",
      "8002  __label__question   Display database name Hello    is it possible...   \n",
      "8003  __label__question   Link folder is deleting folder in Windows Hi ...   \n",
      "\n",
      "                                         repo_name  \n",
      "7995  https://api.github.com/repos/dbeaver/dbeaver  \n",
      "7998  https://api.github.com/repos/dbeaver/dbeaver  \n",
      "8001  https://api.github.com/repos/dbeaver/dbeaver  \n",
      "8002  https://api.github.com/repos/dbeaver/dbeaver  \n",
      "8003  https://api.github.com/repos/dbeaver/dbeaver  \n"
     ]
    },
    {
     "data": {
      "text/html": [
       "<div>\n",
       "<style scoped>\n",
       "    .dataframe tbody tr th:only-of-type {\n",
       "        vertical-align: middle;\n",
       "    }\n",
       "\n",
       "    .dataframe tbody tr th {\n",
       "        vertical-align: top;\n",
       "    }\n",
       "\n",
       "    .dataframe thead th {\n",
       "        text-align: right;\n",
       "    }\n",
       "</style>\n",
       "<table border=\"1\" class=\"dataframe\">\n",
       "  <thead>\n",
       "    <tr style=\"text-align: right;\">\n",
       "      <th></th>\n",
       "      <th>labels</th>\n",
       "      <th>descriptions</th>\n",
       "      <th>repo_name</th>\n",
       "    </tr>\n",
       "  </thead>\n",
       "  <tbody>\n",
       "    <tr>\n",
       "      <th>4625</th>\n",
       "      <td>enhancement</td>\n",
       "      <td>clarify SDL_LockTexture() description  # This ...</td>\n",
       "      <td>https://api.github.com/repos/libsdl-org/SDL</td>\n",
       "    </tr>\n",
       "    <tr>\n",
       "      <th>4655</th>\n",
       "      <td>enhancement</td>\n",
       "      <td>[Patch] Add Stadia controller to gamecontrolle...</td>\n",
       "      <td>https://api.github.com/repos/libsdl-org/SDL</td>\n",
       "    </tr>\n",
       "    <tr>\n",
       "      <th>4657</th>\n",
       "      <td>enhancement</td>\n",
       "      <td>FEATURE: SDL_OpenURL()  # This bug report was ...</td>\n",
       "      <td>https://api.github.com/repos/libsdl-org/SDL</td>\n",
       "    </tr>\n",
       "    <tr>\n",
       "      <th>4730</th>\n",
       "      <td>enhancement</td>\n",
       "      <td>SDL Mutex Implementation Subpar  # This bug re...</td>\n",
       "      <td>https://api.github.com/repos/libsdl-org/SDL</td>\n",
       "    </tr>\n",
       "    <tr>\n",
       "      <th>4750</th>\n",
       "      <td>enhancement</td>\n",
       "      <td>Please allow desktop OpenGL contexts under EGL...</td>\n",
       "      <td>https://api.github.com/repos/libsdl-org/SDL</td>\n",
       "    </tr>\n",
       "  </tbody>\n",
       "</table>\n",
       "</div>"
      ],
      "text/plain": [
       "           labels                                       descriptions  \\\n",
       "4625  enhancement  clarify SDL_LockTexture() description  # This ...   \n",
       "4655  enhancement  [Patch] Add Stadia controller to gamecontrolle...   \n",
       "4657  enhancement  FEATURE: SDL_OpenURL()  # This bug report was ...   \n",
       "4730  enhancement  SDL Mutex Implementation Subpar  # This bug re...   \n",
       "4750  enhancement  Please allow desktop OpenGL contexts under EGL...   \n",
       "\n",
       "                                        repo_name  \n",
       "4625  https://api.github.com/repos/libsdl-org/SDL  \n",
       "4655  https://api.github.com/repos/libsdl-org/SDL  \n",
       "4657  https://api.github.com/repos/libsdl-org/SDL  \n",
       "4730  https://api.github.com/repos/libsdl-org/SDL  \n",
       "4750  https://api.github.com/repos/libsdl-org/SDL  "
      ]
     },
     "execution_count": 24,
     "metadata": {},
     "output_type": "execute_result"
    }
   ],
   "source": [
    "# Cleaning the text\n",
    "df_a = df['f0_'].str.split(r'(__label__enhancement)|(__label__bug)|(__label__question)', expand=True)\n",
    "# retrieve data to separate dataframe for each labels\n",
    "\n",
    "df_b[1] = df_a[1]\n",
    "df_b[2] = df_a[2]\n",
    "df_b[3] = df_a[3]\n",
    "df_b[4] = df_a[4]\n",
    "df_b['repo_name'] = df['repo_name']\n",
    "\n",
    "df = df_b\n",
    "\n",
    "enh_df = df[df[1] == '__label__enhancement'][[1, 4,'repo_name']]\n",
    "bug_df = df[df[2] == '__label__bug'][[2, 4,'repo_name']]\n",
    "question_df = df[df[3] == '__label__question'][[3, 4,'repo_name']]\n",
    "\n",
    "print(enh_df.head())\n",
    "print(bug_df.head())\n",
    "print(question_df.head())\n",
    "\n",
    "# assign column names to each df\n",
    "enh_df.columns = ['labels', 'descriptions','repo_name']\n",
    "bug_df.columns = ['labels', 'descriptions','repo_name']\n",
    "question_df.columns = ['labels', 'descriptions','repo_name']\n",
    "\n",
    "print(enh_df.head())\n",
    "print(bug_df.head())\n",
    "print(question_df.head())\n",
    "\n",
    "# remove the prefix '__label__' string from column labels\n",
    "enh_df['labels'] = enh_df['labels'].str.replace('__label__', '')\n",
    "bug_df['labels'] = bug_df['labels'].str.replace('__label__', '')\n",
    "question_df['labels'] = question_df['labels'].str.replace('__label__', '')\n",
    "\n",
    "# strip away and leading & trailing spaces\n",
    "enh_df['descriptions'] = enh_df['descriptions'].str.strip(' ')\n",
    "bug_df['descriptions'] = bug_df['descriptions'].str.strip(' ')\n",
    "question_df['descriptions'] = question_df['descriptions'].str.strip(' ')\n",
    "\n",
    "# concatenate each df to single dataframe\n",
    "df = pd.concat([enh_df, bug_df, question_df])\n",
    "\n",
    "df.head()\n"
   ]
  },
  {
   "cell_type": "code",
   "execution_count": 135,
   "metadata": {},
   "outputs": [],
   "source": [
    "import pandas as pd\n",
    "from sklearn.model_selection import train_test_split\n",
    "import neattext.functions as nfx\n",
    "import re"
   ]
  },
  {
   "cell_type": "code",
   "execution_count": 136,
   "metadata": {},
   "outputs": [],
   "source": [
    "# remove any non-english samples\n",
    "# reference: https://stackoverflow.com/a/150078/9960491\n",
    "reg_obj = re.compile(r'[^\\u0000-\\u007F]+', re.UNICODE)\n",
    "def is_english(desc):\n",
    "    return (False if reg_obj.match(desc) else True)\n",
    "\n",
    "df['is_english'] = df['descriptions'].apply(is_english)\n",
    "df = df[df['is_english']][['labels', 'descriptions']]"
   ]
  },
  {
   "cell_type": "code",
   "execution_count": 137,
   "metadata": {},
   "outputs": [],
   "source": [
    "# remove the stopwords, emojis from the text and convert it into lower case\n",
    "def neatify_text(text):\n",
    "    text = str(text).lower()\n",
    "    text = nfx.remove_stopwords(text)\n",
    "    text = nfx.remove_emojis(text)\n",
    "#     text = nfx.remove_puncts(text)\n",
    "    return text\n",
    "\n",
    "df['descriptions'] = df['descriptions'].apply(neatify_text)"
   ]
  },
  {
   "cell_type": "code",
   "execution_count": 138,
   "metadata": {},
   "outputs": [],
   "source": [
    "# split dataset to train and dev samples\n",
    "RANDOM_SEED = 12\n",
    "x_train, x_test, y_train, y_test = train_test_split(df['descriptions'], df['labels'],\n",
    "                                                 test_size=0.3,\n",
    "                                                 random_state=RANDOM_SEED)\n",
    "df_train = pd.concat([x_train, y_train], axis=1).reset_index(drop=True)\n",
    "df_eval = pd.concat([x_test, y_test], axis=1).reset_index(drop=True)\n"
   ]
  },
  {
   "cell_type": "code",
   "execution_count": 139,
   "metadata": {},
   "outputs": [
    {
     "name": "stdout",
     "output_type": "stream",
     "text": [
      "        labels                                       descriptions\n",
      "0  enhancement  subpasses msl hlsl sorry issues  given followi...\n",
      "1  enhancement  collect new discovered nodes collect new added...\n",
      "2  enhancement                         lock property : properties\n",
      "4  enhancement                          randomize: remove sliders\n",
      "8  enhancement  feature request: local invoke inside action co...\n"
     ]
    }
   ],
   "source": [
    "df.groupby(['labels']).agg({'descriptions':'count'})\n",
    "print(df.head())"
   ]
  },
  {
   "cell_type": "code",
   "execution_count": 140,
   "metadata": {},
   "outputs": [],
   "source": [
    "# # # save train and eval dataframes to csv\n",
    "# df_train.to_csv(r\"../dataset/Mult_train.csv\")\n",
    "# df_eval.to_csv(r\"../dataset/Mult_eval.csv\")\n",
    "# df.to_csv(data_out_path)"
   ]
  },
  {
   "cell_type": "code",
   "execution_count": 141,
   "metadata": {},
   "outputs": [],
   "source": [
    "# save train and eval dataframes to csv\n",
    "# df_train.to_csv(r\"../dataset/balanced_train.csv\")\n",
    "# df_eval.to_csv(r\"../dataset/balanced_eval.csv\")\n",
    "# df.to_csv(data_out_path)"
   ]
  },
  {
   "cell_type": "code",
   "execution_count": 142,
   "metadata": {},
   "outputs": [],
   "source": [
    "# save train and eval dataframes to csv\n",
    "df_train.to_csv(r\"../dataset/unbalanced_train.csv\",index=False)\n",
    "df_eval.to_csv(r\"../dataset/unbalanced_eval.csv\",index=False)\n",
    "df.to_csv(data_out_path,index=False)"
   ]
  },
  {
   "cell_type": "code",
   "execution_count": null,
   "metadata": {},
   "outputs": [],
   "source": []
  }
 ],
 "metadata": {
  "kernelspec": {
   "display_name": "Python 3.9.7 ('base')",
   "language": "python",
   "name": "python3"
  },
  "language_info": {
   "codemirror_mode": {
    "name": "ipython",
    "version": 3
   },
   "file_extension": ".py",
   "mimetype": "text/x-python",
   "name": "python",
   "nbconvert_exporter": "python",
   "pygments_lexer": "ipython3",
   "version": "3.9.7"
  },
  "orig_nbformat": 4,
  "vscode": {
   "interpreter": {
    "hash": "8ef95568004652f776bd8622263a31e0f4453e284693cb553c5f4e384f04eb19"
   }
  }
 },
 "nbformat": 4,
 "nbformat_minor": 2
}
